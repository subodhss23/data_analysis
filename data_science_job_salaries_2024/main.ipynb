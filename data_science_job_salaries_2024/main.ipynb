{
 "cells": [
  {
   "cell_type": "code",
   "execution_count": 12,
   "metadata": {},
   "outputs": [],
   "source": [
    "import pandas as pd"
   ]
  },
  {
   "cell_type": "code",
   "execution_count": 13,
   "metadata": {},
   "outputs": [],
   "source": [
    "df = pd.read_csv(\"./Data-Science-Job_Listing.csv\")"
   ]
  },
  {
   "cell_type": "code",
   "execution_count": 14,
   "metadata": {},
   "outputs": [
    {
     "data": {
      "text/html": [
       "<div>\n",
       "<style scoped>\n",
       "    .dataframe tbody tr th:only-of-type {\n",
       "        vertical-align: middle;\n",
       "    }\n",
       "\n",
       "    .dataframe tbody tr th {\n",
       "        vertical-align: top;\n",
       "    }\n",
       "\n",
       "    .dataframe thead th {\n",
       "        text-align: right;\n",
       "    }\n",
       "</style>\n",
       "<table border=\"1\" class=\"dataframe\">\n",
       "  <thead>\n",
       "    <tr style=\"text-align: right;\">\n",
       "      <th></th>\n",
       "      <th>Position</th>\n",
       "      <th>Job Title</th>\n",
       "      <th>Company Name</th>\n",
       "      <th>Location</th>\n",
       "      <th>Salary</th>\n",
       "      <th>Date</th>\n",
       "      <th>Logo</th>\n",
       "      <th>Job Link</th>\n",
       "      <th>Company Rating</th>\n",
       "    </tr>\n",
       "  </thead>\n",
       "  <tbody>\n",
       "    <tr>\n",
       "      <th>0</th>\n",
       "      <td>1</td>\n",
       "      <td>Associate Stop Loss Underwriter</td>\n",
       "      <td>The Insurance Center\\n2.7</td>\n",
       "      <td>Onalaska, WI</td>\n",
       "      <td>$57K - $84K (Glassdoor est.)</td>\n",
       "      <td>30d+</td>\n",
       "      <td>https://media.glassdoor.com/sql/453835/the-ins...</td>\n",
       "      <td>https://www.glassdoor.com/partner/jobListing.h...</td>\n",
       "      <td>2.7</td>\n",
       "    </tr>\n",
       "    <tr>\n",
       "      <th>1</th>\n",
       "      <td>2</td>\n",
       "      <td>Manager of Data Science</td>\n",
       "      <td>Nuvative, Inc.\\n3.4</td>\n",
       "      <td>Wichita, KS</td>\n",
       "      <td>$106K - $157K (Glassdoor est.)</td>\n",
       "      <td>30d+</td>\n",
       "      <td>https://media.glassdoor.com/sql/1384674/net-pa...</td>\n",
       "      <td>https://www.glassdoor.com/partner/jobListing.h...</td>\n",
       "      <td>3.4</td>\n",
       "    </tr>\n",
       "    <tr>\n",
       "      <th>2</th>\n",
       "      <td>3</td>\n",
       "      <td>Senior Data Product Manager</td>\n",
       "      <td>ProviderTrust\\n4.2</td>\n",
       "      <td>Nashville, TN</td>\n",
       "      <td>$105K - $141K (Glassdoor est.)</td>\n",
       "      <td>11d</td>\n",
       "      <td>https://media.glassdoor.com/sql/1953857/hibob-...</td>\n",
       "      <td>https://www.glassdoor.com/partner/jobListing.h...</td>\n",
       "      <td>4.2</td>\n",
       "    </tr>\n",
       "    <tr>\n",
       "      <th>3</th>\n",
       "      <td>4</td>\n",
       "      <td>Oncology Nurse Navigator</td>\n",
       "      <td>Inizio Engage\\n3.6</td>\n",
       "      <td>Portland, OR</td>\n",
       "      <td>$90K - $113K (Employer est.)</td>\n",
       "      <td>1d</td>\n",
       "      <td>https://media.glassdoor.com/sql/8794153/inizio...</td>\n",
       "      <td>https://www.glassdoor.com/partner/jobListing.h...</td>\n",
       "      <td>3.6</td>\n",
       "    </tr>\n",
       "    <tr>\n",
       "      <th>4</th>\n",
       "      <td>5</td>\n",
       "      <td>Head of Artificial Intelligence – Americas Region</td>\n",
       "      <td>Covestro\\n3.6</td>\n",
       "      <td>Pittsburgh, PA</td>\n",
       "      <td>$89K - $148K (Glassdoor est.)</td>\n",
       "      <td>30d+</td>\n",
       "      <td>https://media.glassdoor.com/sql/27128/covestro...</td>\n",
       "      <td>https://www.glassdoor.com/partner/jobListing.h...</td>\n",
       "      <td>3.6</td>\n",
       "    </tr>\n",
       "  </tbody>\n",
       "</table>\n",
       "</div>"
      ],
      "text/plain": [
       "   Position                                          Job Title  \\\n",
       "0         1                    Associate Stop Loss Underwriter   \n",
       "1         2                            Manager of Data Science   \n",
       "2         3                        Senior Data Product Manager   \n",
       "3         4                           Oncology Nurse Navigator   \n",
       "4         5  Head of Artificial Intelligence – Americas Region   \n",
       "\n",
       "                Company Name        Location                          Salary  \\\n",
       "0  The Insurance Center\\n2.7    Onalaska, WI    $57K - $84K (Glassdoor est.)   \n",
       "1        Nuvative, Inc.\\n3.4     Wichita, KS  $106K - $157K (Glassdoor est.)   \n",
       "2         ProviderTrust\\n4.2   Nashville, TN  $105K - $141K (Glassdoor est.)   \n",
       "3         Inizio Engage\\n3.6    Portland, OR    $90K - $113K (Employer est.)   \n",
       "4              Covestro\\n3.6  Pittsburgh, PA   $89K - $148K (Glassdoor est.)   \n",
       "\n",
       "   Date                                               Logo  \\\n",
       "0  30d+  https://media.glassdoor.com/sql/453835/the-ins...   \n",
       "1  30d+  https://media.glassdoor.com/sql/1384674/net-pa...   \n",
       "2   11d  https://media.glassdoor.com/sql/1953857/hibob-...   \n",
       "3    1d  https://media.glassdoor.com/sql/8794153/inizio...   \n",
       "4  30d+  https://media.glassdoor.com/sql/27128/covestro...   \n",
       "\n",
       "                                            Job Link  Company Rating  \n",
       "0  https://www.glassdoor.com/partner/jobListing.h...             2.7  \n",
       "1  https://www.glassdoor.com/partner/jobListing.h...             3.4  \n",
       "2  https://www.glassdoor.com/partner/jobListing.h...             4.2  \n",
       "3  https://www.glassdoor.com/partner/jobListing.h...             3.6  \n",
       "4  https://www.glassdoor.com/partner/jobListing.h...             3.6  "
      ]
     },
     "execution_count": 14,
     "metadata": {},
     "output_type": "execute_result"
    }
   ],
   "source": [
    "df.head()"
   ]
  },
  {
   "cell_type": "code",
   "execution_count": 15,
   "metadata": {},
   "outputs": [
    {
     "name": "stdout",
     "output_type": "stream",
     "text": [
      "<class 'pandas.core.frame.DataFrame'>\n",
      "RangeIndex: 500 entries, 0 to 499\n",
      "Data columns (total 9 columns):\n",
      " #   Column          Non-Null Count  Dtype  \n",
      "---  ------          --------------  -----  \n",
      " 0   Position        500 non-null    int64  \n",
      " 1   Job Title       500 non-null    object \n",
      " 2   Company Name    500 non-null    object \n",
      " 3   Location        500 non-null    object \n",
      " 4   Salary          438 non-null    object \n",
      " 5   Date            500 non-null    object \n",
      " 6   Logo            436 non-null    object \n",
      " 7   Job Link        500 non-null    object \n",
      " 8   Company Rating  439 non-null    float64\n",
      "dtypes: float64(1), int64(1), object(7)\n",
      "memory usage: 35.3+ KB\n"
     ]
    }
   ],
   "source": [
    "df.info()"
   ]
  },
  {
   "cell_type": "code",
   "execution_count": 16,
   "metadata": {},
   "outputs": [
    {
     "data": {
      "text/html": [
       "<div>\n",
       "<style scoped>\n",
       "    .dataframe tbody tr th:only-of-type {\n",
       "        vertical-align: middle;\n",
       "    }\n",
       "\n",
       "    .dataframe tbody tr th {\n",
       "        vertical-align: top;\n",
       "    }\n",
       "\n",
       "    .dataframe thead th {\n",
       "        text-align: right;\n",
       "    }\n",
       "</style>\n",
       "<table border=\"1\" class=\"dataframe\">\n",
       "  <thead>\n",
       "    <tr style=\"text-align: right;\">\n",
       "      <th></th>\n",
       "      <th>Position</th>\n",
       "      <th>Company Rating</th>\n",
       "    </tr>\n",
       "  </thead>\n",
       "  <tbody>\n",
       "    <tr>\n",
       "      <th>count</th>\n",
       "      <td>500.000000</td>\n",
       "      <td>439.000000</td>\n",
       "    </tr>\n",
       "    <tr>\n",
       "      <th>mean</th>\n",
       "      <td>250.500000</td>\n",
       "      <td>3.812301</td>\n",
       "    </tr>\n",
       "    <tr>\n",
       "      <th>std</th>\n",
       "      <td>144.481833</td>\n",
       "      <td>0.480281</td>\n",
       "    </tr>\n",
       "    <tr>\n",
       "      <th>min</th>\n",
       "      <td>1.000000</td>\n",
       "      <td>1.000000</td>\n",
       "    </tr>\n",
       "    <tr>\n",
       "      <th>25%</th>\n",
       "      <td>125.750000</td>\n",
       "      <td>3.600000</td>\n",
       "    </tr>\n",
       "    <tr>\n",
       "      <th>50%</th>\n",
       "      <td>250.500000</td>\n",
       "      <td>3.800000</td>\n",
       "    </tr>\n",
       "    <tr>\n",
       "      <th>75%</th>\n",
       "      <td>375.250000</td>\n",
       "      <td>4.000000</td>\n",
       "    </tr>\n",
       "    <tr>\n",
       "      <th>max</th>\n",
       "      <td>500.000000</td>\n",
       "      <td>5.000000</td>\n",
       "    </tr>\n",
       "  </tbody>\n",
       "</table>\n",
       "</div>"
      ],
      "text/plain": [
       "         Position  Company Rating\n",
       "count  500.000000      439.000000\n",
       "mean   250.500000        3.812301\n",
       "std    144.481833        0.480281\n",
       "min      1.000000        1.000000\n",
       "25%    125.750000        3.600000\n",
       "50%    250.500000        3.800000\n",
       "75%    375.250000        4.000000\n",
       "max    500.000000        5.000000"
      ]
     },
     "execution_count": 16,
     "metadata": {},
     "output_type": "execute_result"
    }
   ],
   "source": [
    "df.describe()"
   ]
  },
  {
   "cell_type": "code",
   "execution_count": 17,
   "metadata": {},
   "outputs": [
    {
     "data": {
      "text/plain": [
       "Index(['Position', 'Job Title', 'Company Name', 'Location', 'Salary', 'Date',\n",
       "       'Logo', 'Job Link', 'Company Rating'],\n",
       "      dtype='object')"
      ]
     },
     "execution_count": 17,
     "metadata": {},
     "output_type": "execute_result"
    }
   ],
   "source": [
    "df.columns"
   ]
  },
  {
   "cell_type": "code",
   "execution_count": 18,
   "metadata": {},
   "outputs": [],
   "source": [
    "df.drop(columns=[\"Logo\"], inplace=True)"
   ]
  },
  {
   "cell_type": "code",
   "execution_count": 19,
   "metadata": {},
   "outputs": [
    {
     "data": {
      "text/html": [
       "<div>\n",
       "<style scoped>\n",
       "    .dataframe tbody tr th:only-of-type {\n",
       "        vertical-align: middle;\n",
       "    }\n",
       "\n",
       "    .dataframe tbody tr th {\n",
       "        vertical-align: top;\n",
       "    }\n",
       "\n",
       "    .dataframe thead th {\n",
       "        text-align: right;\n",
       "    }\n",
       "</style>\n",
       "<table border=\"1\" class=\"dataframe\">\n",
       "  <thead>\n",
       "    <tr style=\"text-align: right;\">\n",
       "      <th></th>\n",
       "      <th>Position</th>\n",
       "      <th>Job Title</th>\n",
       "      <th>Company Name</th>\n",
       "      <th>Location</th>\n",
       "      <th>Salary</th>\n",
       "      <th>Date</th>\n",
       "      <th>Job Link</th>\n",
       "      <th>Company Rating</th>\n",
       "    </tr>\n",
       "  </thead>\n",
       "  <tbody>\n",
       "    <tr>\n",
       "      <th>0</th>\n",
       "      <td>1</td>\n",
       "      <td>Associate Stop Loss Underwriter</td>\n",
       "      <td>The Insurance Center\\n2.7</td>\n",
       "      <td>Onalaska, WI</td>\n",
       "      <td>$57K - $84K (Glassdoor est.)</td>\n",
       "      <td>30d+</td>\n",
       "      <td>https://www.glassdoor.com/partner/jobListing.h...</td>\n",
       "      <td>2.7</td>\n",
       "    </tr>\n",
       "    <tr>\n",
       "      <th>1</th>\n",
       "      <td>2</td>\n",
       "      <td>Manager of Data Science</td>\n",
       "      <td>Nuvative, Inc.\\n3.4</td>\n",
       "      <td>Wichita, KS</td>\n",
       "      <td>$106K - $157K (Glassdoor est.)</td>\n",
       "      <td>30d+</td>\n",
       "      <td>https://www.glassdoor.com/partner/jobListing.h...</td>\n",
       "      <td>3.4</td>\n",
       "    </tr>\n",
       "    <tr>\n",
       "      <th>2</th>\n",
       "      <td>3</td>\n",
       "      <td>Senior Data Product Manager</td>\n",
       "      <td>ProviderTrust\\n4.2</td>\n",
       "      <td>Nashville, TN</td>\n",
       "      <td>$105K - $141K (Glassdoor est.)</td>\n",
       "      <td>11d</td>\n",
       "      <td>https://www.glassdoor.com/partner/jobListing.h...</td>\n",
       "      <td>4.2</td>\n",
       "    </tr>\n",
       "    <tr>\n",
       "      <th>3</th>\n",
       "      <td>4</td>\n",
       "      <td>Oncology Nurse Navigator</td>\n",
       "      <td>Inizio Engage\\n3.6</td>\n",
       "      <td>Portland, OR</td>\n",
       "      <td>$90K - $113K (Employer est.)</td>\n",
       "      <td>1d</td>\n",
       "      <td>https://www.glassdoor.com/partner/jobListing.h...</td>\n",
       "      <td>3.6</td>\n",
       "    </tr>\n",
       "    <tr>\n",
       "      <th>4</th>\n",
       "      <td>5</td>\n",
       "      <td>Head of Artificial Intelligence – Americas Region</td>\n",
       "      <td>Covestro\\n3.6</td>\n",
       "      <td>Pittsburgh, PA</td>\n",
       "      <td>$89K - $148K (Glassdoor est.)</td>\n",
       "      <td>30d+</td>\n",
       "      <td>https://www.glassdoor.com/partner/jobListing.h...</td>\n",
       "      <td>3.6</td>\n",
       "    </tr>\n",
       "    <tr>\n",
       "      <th>...</th>\n",
       "      <td>...</td>\n",
       "      <td>...</td>\n",
       "      <td>...</td>\n",
       "      <td>...</td>\n",
       "      <td>...</td>\n",
       "      <td>...</td>\n",
       "      <td>...</td>\n",
       "      <td>...</td>\n",
       "    </tr>\n",
       "    <tr>\n",
       "      <th>495</th>\n",
       "      <td>496</td>\n",
       "      <td>Cloud Administrator</td>\n",
       "      <td>GM Financial\\n4.0</td>\n",
       "      <td>Arlington, TX</td>\n",
       "      <td>NaN</td>\n",
       "      <td>25d</td>\n",
       "      <td>https://www.glassdoor.com/partner/jobListing.h...</td>\n",
       "      <td>4.0</td>\n",
       "    </tr>\n",
       "    <tr>\n",
       "      <th>496</th>\n",
       "      <td>497</td>\n",
       "      <td>Robotics Engineer (AI)</td>\n",
       "      <td>Alpha Net Consulting</td>\n",
       "      <td>United States</td>\n",
       "      <td>$44.12 - $70.00 Per Hour (Employer est.)</td>\n",
       "      <td>4d</td>\n",
       "      <td>https://www.glassdoor.com/partner/jobListing.h...</td>\n",
       "      <td>NaN</td>\n",
       "    </tr>\n",
       "    <tr>\n",
       "      <th>497</th>\n",
       "      <td>498</td>\n",
       "      <td>Tchr of English- Newark School of Data Science...</td>\n",
       "      <td>Newark Board of Education\\n3.3</td>\n",
       "      <td>Newark, NJ</td>\n",
       "      <td>$62K - $107K (Employer est.)</td>\n",
       "      <td>30d+</td>\n",
       "      <td>https://www.glassdoor.com/partner/jobListing.h...</td>\n",
       "      <td>3.3</td>\n",
       "    </tr>\n",
       "    <tr>\n",
       "      <th>498</th>\n",
       "      <td>499</td>\n",
       "      <td>Statistician</td>\n",
       "      <td>Sciome LLC</td>\n",
       "      <td>Research Triangle Park, NC</td>\n",
       "      <td>$33.00 - $39.00 Per Hour (Employer est.)</td>\n",
       "      <td>30d+</td>\n",
       "      <td>https://www.glassdoor.com/partner/jobListing.h...</td>\n",
       "      <td>NaN</td>\n",
       "    </tr>\n",
       "    <tr>\n",
       "      <th>499</th>\n",
       "      <td>500</td>\n",
       "      <td>Quantitative Analytics Manager - Data Modeling...</td>\n",
       "      <td>Freddie Mac\\n3.6</td>\n",
       "      <td>McLean, VA</td>\n",
       "      <td>$140K - $210K (Employer est.)</td>\n",
       "      <td>5d</td>\n",
       "      <td>https://www.glassdoor.com/partner/jobListing.h...</td>\n",
       "      <td>3.6</td>\n",
       "    </tr>\n",
       "  </tbody>\n",
       "</table>\n",
       "<p>500 rows × 8 columns</p>\n",
       "</div>"
      ],
      "text/plain": [
       "     Position                                          Job Title  \\\n",
       "0           1                    Associate Stop Loss Underwriter   \n",
       "1           2                            Manager of Data Science   \n",
       "2           3                        Senior Data Product Manager   \n",
       "3           4                           Oncology Nurse Navigator   \n",
       "4           5  Head of Artificial Intelligence – Americas Region   \n",
       "..        ...                                                ...   \n",
       "495       496                                Cloud Administrator   \n",
       "496       497                             Robotics Engineer (AI)   \n",
       "497       498  Tchr of English- Newark School of Data Science...   \n",
       "498       499                                       Statistician   \n",
       "499       500  Quantitative Analytics Manager - Data Modeling...   \n",
       "\n",
       "                       Company Name                    Location  \\\n",
       "0         The Insurance Center\\n2.7                Onalaska, WI   \n",
       "1               Nuvative, Inc.\\n3.4                 Wichita, KS   \n",
       "2                ProviderTrust\\n4.2               Nashville, TN   \n",
       "3                Inizio Engage\\n3.6                Portland, OR   \n",
       "4                     Covestro\\n3.6              Pittsburgh, PA   \n",
       "..                              ...                         ...   \n",
       "495               GM Financial\\n4.0               Arlington, TX   \n",
       "496            Alpha Net Consulting               United States   \n",
       "497  Newark Board of Education\\n3.3                  Newark, NJ   \n",
       "498                      Sciome LLC  Research Triangle Park, NC   \n",
       "499                Freddie Mac\\n3.6                  McLean, VA   \n",
       "\n",
       "                                       Salary  Date  \\\n",
       "0                $57K - $84K (Glassdoor est.)  30d+   \n",
       "1              $106K - $157K (Glassdoor est.)  30d+   \n",
       "2              $105K - $141K (Glassdoor est.)   11d   \n",
       "3                $90K - $113K (Employer est.)    1d   \n",
       "4               $89K - $148K (Glassdoor est.)  30d+   \n",
       "..                                        ...   ...   \n",
       "495                                       NaN   25d   \n",
       "496  $44.12 - $70.00 Per Hour (Employer est.)    4d   \n",
       "497              $62K - $107K (Employer est.)  30d+   \n",
       "498  $33.00 - $39.00 Per Hour (Employer est.)  30d+   \n",
       "499             $140K - $210K (Employer est.)    5d   \n",
       "\n",
       "                                              Job Link  Company Rating  \n",
       "0    https://www.glassdoor.com/partner/jobListing.h...             2.7  \n",
       "1    https://www.glassdoor.com/partner/jobListing.h...             3.4  \n",
       "2    https://www.glassdoor.com/partner/jobListing.h...             4.2  \n",
       "3    https://www.glassdoor.com/partner/jobListing.h...             3.6  \n",
       "4    https://www.glassdoor.com/partner/jobListing.h...             3.6  \n",
       "..                                                 ...             ...  \n",
       "495  https://www.glassdoor.com/partner/jobListing.h...             4.0  \n",
       "496  https://www.glassdoor.com/partner/jobListing.h...             NaN  \n",
       "497  https://www.glassdoor.com/partner/jobListing.h...             3.3  \n",
       "498  https://www.glassdoor.com/partner/jobListing.h...             NaN  \n",
       "499  https://www.glassdoor.com/partner/jobListing.h...             3.6  \n",
       "\n",
       "[500 rows x 8 columns]"
      ]
     },
     "execution_count": 19,
     "metadata": {},
     "output_type": "execute_result"
    }
   ],
   "source": [
    "df"
   ]
  },
  {
   "cell_type": "code",
   "execution_count": 20,
   "metadata": {},
   "outputs": [
    {
     "data": {
      "text/html": [
       "<div>\n",
       "<style scoped>\n",
       "    .dataframe tbody tr th:only-of-type {\n",
       "        vertical-align: middle;\n",
       "    }\n",
       "\n",
       "    .dataframe tbody tr th {\n",
       "        vertical-align: top;\n",
       "    }\n",
       "\n",
       "    .dataframe thead th {\n",
       "        text-align: right;\n",
       "    }\n",
       "</style>\n",
       "<table border=\"1\" class=\"dataframe\">\n",
       "  <thead>\n",
       "    <tr style=\"text-align: right;\">\n",
       "      <th></th>\n",
       "      <th>Position</th>\n",
       "      <th>Job Title</th>\n",
       "      <th>Company Name</th>\n",
       "      <th>Location</th>\n",
       "      <th>Salary</th>\n",
       "      <th>Date</th>\n",
       "      <th>Job Link</th>\n",
       "      <th>Company Rating</th>\n",
       "    </tr>\n",
       "  </thead>\n",
       "  <tbody>\n",
       "    <tr>\n",
       "      <th>0</th>\n",
       "      <td>1</td>\n",
       "      <td>Associate Stop Loss Underwriter</td>\n",
       "      <td>The Insurance Center\\n2.7</td>\n",
       "      <td>Onalaska, WI</td>\n",
       "      <td>$57K - $84K (Glassdoor est.)</td>\n",
       "      <td>30d+</td>\n",
       "      <td>https://www.glassdoor.com/partner/jobListing.h...</td>\n",
       "      <td>2.7</td>\n",
       "    </tr>\n",
       "    <tr>\n",
       "      <th>1</th>\n",
       "      <td>2</td>\n",
       "      <td>Manager of Data Science</td>\n",
       "      <td>Nuvative, Inc.\\n3.4</td>\n",
       "      <td>Wichita, KS</td>\n",
       "      <td>$106K - $157K (Glassdoor est.)</td>\n",
       "      <td>30d+</td>\n",
       "      <td>https://www.glassdoor.com/partner/jobListing.h...</td>\n",
       "      <td>3.4</td>\n",
       "    </tr>\n",
       "    <tr>\n",
       "      <th>2</th>\n",
       "      <td>3</td>\n",
       "      <td>Senior Data Product Manager</td>\n",
       "      <td>ProviderTrust\\n4.2</td>\n",
       "      <td>Nashville, TN</td>\n",
       "      <td>$105K - $141K (Glassdoor est.)</td>\n",
       "      <td>11d</td>\n",
       "      <td>https://www.glassdoor.com/partner/jobListing.h...</td>\n",
       "      <td>4.2</td>\n",
       "    </tr>\n",
       "    <tr>\n",
       "      <th>3</th>\n",
       "      <td>4</td>\n",
       "      <td>Oncology Nurse Navigator</td>\n",
       "      <td>Inizio Engage\\n3.6</td>\n",
       "      <td>Portland, OR</td>\n",
       "      <td>$90K - $113K (Employer est.)</td>\n",
       "      <td>1d</td>\n",
       "      <td>https://www.glassdoor.com/partner/jobListing.h...</td>\n",
       "      <td>3.6</td>\n",
       "    </tr>\n",
       "    <tr>\n",
       "      <th>4</th>\n",
       "      <td>5</td>\n",
       "      <td>Head of Artificial Intelligence – Americas Region</td>\n",
       "      <td>Covestro\\n3.6</td>\n",
       "      <td>Pittsburgh, PA</td>\n",
       "      <td>$89K - $148K (Glassdoor est.)</td>\n",
       "      <td>30d+</td>\n",
       "      <td>https://www.glassdoor.com/partner/jobListing.h...</td>\n",
       "      <td>3.6</td>\n",
       "    </tr>\n",
       "  </tbody>\n",
       "</table>\n",
       "</div>"
      ],
      "text/plain": [
       "   Position                                          Job Title  \\\n",
       "0         1                    Associate Stop Loss Underwriter   \n",
       "1         2                            Manager of Data Science   \n",
       "2         3                        Senior Data Product Manager   \n",
       "3         4                           Oncology Nurse Navigator   \n",
       "4         5  Head of Artificial Intelligence – Americas Region   \n",
       "\n",
       "                Company Name        Location                          Salary  \\\n",
       "0  The Insurance Center\\n2.7    Onalaska, WI    $57K - $84K (Glassdoor est.)   \n",
       "1        Nuvative, Inc.\\n3.4     Wichita, KS  $106K - $157K (Glassdoor est.)   \n",
       "2         ProviderTrust\\n4.2   Nashville, TN  $105K - $141K (Glassdoor est.)   \n",
       "3         Inizio Engage\\n3.6    Portland, OR    $90K - $113K (Employer est.)   \n",
       "4              Covestro\\n3.6  Pittsburgh, PA   $89K - $148K (Glassdoor est.)   \n",
       "\n",
       "   Date                                           Job Link  Company Rating  \n",
       "0  30d+  https://www.glassdoor.com/partner/jobListing.h...             2.7  \n",
       "1  30d+  https://www.glassdoor.com/partner/jobListing.h...             3.4  \n",
       "2   11d  https://www.glassdoor.com/partner/jobListing.h...             4.2  \n",
       "3    1d  https://www.glassdoor.com/partner/jobListing.h...             3.6  \n",
       "4  30d+  https://www.glassdoor.com/partner/jobListing.h...             3.6  "
      ]
     },
     "execution_count": 20,
     "metadata": {},
     "output_type": "execute_result"
    }
   ],
   "source": [
    "df.head()"
   ]
  },
  {
   "cell_type": "code",
   "execution_count": 21,
   "metadata": {},
   "outputs": [
    {
     "data": {
      "text/plain": [
       "Position          500\n",
       "Job Title         500\n",
       "Company Name      500\n",
       "Location          500\n",
       "Salary            438\n",
       "Date              500\n",
       "Job Link          500\n",
       "Company Rating    439\n",
       "dtype: int64"
      ]
     },
     "execution_count": 21,
     "metadata": {},
     "output_type": "execute_result"
    }
   ],
   "source": [
    "df.notna().sum()"
   ]
  },
  {
   "cell_type": "code",
   "execution_count": 29,
   "metadata": {},
   "outputs": [
    {
     "data": {
      "text/plain": [
       "(500, 8)"
      ]
     },
     "execution_count": 29,
     "metadata": {},
     "output_type": "execute_result"
    }
   ],
   "source": [
    "df.shape"
   ]
  },
  {
   "cell_type": "code",
   "execution_count": 22,
   "metadata": {},
   "outputs": [],
   "source": [
    "df_cleaned = df.dropna(axis=1, how=\"all\")"
   ]
  },
  {
   "cell_type": "code",
   "execution_count": 28,
   "metadata": {},
   "outputs": [
    {
     "data": {
      "text/plain": [
       "(500, 8)"
      ]
     },
     "execution_count": 28,
     "metadata": {},
     "output_type": "execute_result"
    }
   ],
   "source": [
    "df_cleaned.shape"
   ]
  },
  {
   "cell_type": "code",
   "execution_count": 27,
   "metadata": {},
   "outputs": [
    {
     "data": {
      "text/html": [
       "<div>\n",
       "<style scoped>\n",
       "    .dataframe tbody tr th:only-of-type {\n",
       "        vertical-align: middle;\n",
       "    }\n",
       "\n",
       "    .dataframe tbody tr th {\n",
       "        vertical-align: top;\n",
       "    }\n",
       "\n",
       "    .dataframe thead th {\n",
       "        text-align: right;\n",
       "    }\n",
       "</style>\n",
       "<table border=\"1\" class=\"dataframe\">\n",
       "  <thead>\n",
       "    <tr style=\"text-align: right;\">\n",
       "      <th></th>\n",
       "      <th>Position</th>\n",
       "      <th>Job Title</th>\n",
       "      <th>Company Name</th>\n",
       "      <th>Location</th>\n",
       "      <th>Salary</th>\n",
       "      <th>Date</th>\n",
       "      <th>Job Link</th>\n",
       "      <th>Company Rating</th>\n",
       "    </tr>\n",
       "  </thead>\n",
       "  <tbody>\n",
       "    <tr>\n",
       "      <th>0</th>\n",
       "      <td>1</td>\n",
       "      <td>Associate Stop Loss Underwriter</td>\n",
       "      <td>The Insurance Center\\n2.7</td>\n",
       "      <td>Onalaska, WI</td>\n",
       "      <td>$57K - $84K (Glassdoor est.)</td>\n",
       "      <td>30d+</td>\n",
       "      <td>https://www.glassdoor.com/partner/jobListing.h...</td>\n",
       "      <td>2.7</td>\n",
       "    </tr>\n",
       "    <tr>\n",
       "      <th>1</th>\n",
       "      <td>2</td>\n",
       "      <td>Manager of Data Science</td>\n",
       "      <td>Nuvative, Inc.\\n3.4</td>\n",
       "      <td>Wichita, KS</td>\n",
       "      <td>$106K - $157K (Glassdoor est.)</td>\n",
       "      <td>30d+</td>\n",
       "      <td>https://www.glassdoor.com/partner/jobListing.h...</td>\n",
       "      <td>3.4</td>\n",
       "    </tr>\n",
       "    <tr>\n",
       "      <th>2</th>\n",
       "      <td>3</td>\n",
       "      <td>Senior Data Product Manager</td>\n",
       "      <td>ProviderTrust\\n4.2</td>\n",
       "      <td>Nashville, TN</td>\n",
       "      <td>$105K - $141K (Glassdoor est.)</td>\n",
       "      <td>11d</td>\n",
       "      <td>https://www.glassdoor.com/partner/jobListing.h...</td>\n",
       "      <td>4.2</td>\n",
       "    </tr>\n",
       "    <tr>\n",
       "      <th>3</th>\n",
       "      <td>4</td>\n",
       "      <td>Oncology Nurse Navigator</td>\n",
       "      <td>Inizio Engage\\n3.6</td>\n",
       "      <td>Portland, OR</td>\n",
       "      <td>$90K - $113K (Employer est.)</td>\n",
       "      <td>1d</td>\n",
       "      <td>https://www.glassdoor.com/partner/jobListing.h...</td>\n",
       "      <td>3.6</td>\n",
       "    </tr>\n",
       "    <tr>\n",
       "      <th>4</th>\n",
       "      <td>5</td>\n",
       "      <td>Head of Artificial Intelligence – Americas Region</td>\n",
       "      <td>Covestro\\n3.6</td>\n",
       "      <td>Pittsburgh, PA</td>\n",
       "      <td>$89K - $148K (Glassdoor est.)</td>\n",
       "      <td>30d+</td>\n",
       "      <td>https://www.glassdoor.com/partner/jobListing.h...</td>\n",
       "      <td>3.6</td>\n",
       "    </tr>\n",
       "  </tbody>\n",
       "</table>\n",
       "</div>"
      ],
      "text/plain": [
       "   Position                                          Job Title  \\\n",
       "0         1                    Associate Stop Loss Underwriter   \n",
       "1         2                            Manager of Data Science   \n",
       "2         3                        Senior Data Product Manager   \n",
       "3         4                           Oncology Nurse Navigator   \n",
       "4         5  Head of Artificial Intelligence – Americas Region   \n",
       "\n",
       "                Company Name        Location                          Salary  \\\n",
       "0  The Insurance Center\\n2.7    Onalaska, WI    $57K - $84K (Glassdoor est.)   \n",
       "1        Nuvative, Inc.\\n3.4     Wichita, KS  $106K - $157K (Glassdoor est.)   \n",
       "2         ProviderTrust\\n4.2   Nashville, TN  $105K - $141K (Glassdoor est.)   \n",
       "3         Inizio Engage\\n3.6    Portland, OR    $90K - $113K (Employer est.)   \n",
       "4              Covestro\\n3.6  Pittsburgh, PA   $89K - $148K (Glassdoor est.)   \n",
       "\n",
       "   Date                                           Job Link  Company Rating  \n",
       "0  30d+  https://www.glassdoor.com/partner/jobListing.h...             2.7  \n",
       "1  30d+  https://www.glassdoor.com/partner/jobListing.h...             3.4  \n",
       "2   11d  https://www.glassdoor.com/partner/jobListing.h...             4.2  \n",
       "3    1d  https://www.glassdoor.com/partner/jobListing.h...             3.6  \n",
       "4  30d+  https://www.glassdoor.com/partner/jobListing.h...             3.6  "
      ]
     },
     "execution_count": 27,
     "metadata": {},
     "output_type": "execute_result"
    }
   ],
   "source": [
    "df_cleaned.head()"
   ]
  },
  {
   "cell_type": "code",
   "execution_count": 30,
   "metadata": {},
   "outputs": [
    {
     "data": {
      "text/plain": [
       "Position           0\n",
       "Job Title          0\n",
       "Company Name       0\n",
       "Location           0\n",
       "Salary            62\n",
       "Date               0\n",
       "Job Link           0\n",
       "Company Rating    61\n",
       "dtype: int64"
      ]
     },
     "execution_count": 30,
     "metadata": {},
     "output_type": "execute_result"
    }
   ],
   "source": [
    "df.isna().sum()"
   ]
  },
  {
   "cell_type": "code",
   "execution_count": 31,
   "metadata": {},
   "outputs": [],
   "source": [
    "# removing rows with missing value\n",
    "df.dropna(axis=0, inplace=True)"
   ]
  },
  {
   "cell_type": "code",
   "execution_count": 32,
   "metadata": {},
   "outputs": [
    {
     "data": {
      "text/plain": [
       "Position          0\n",
       "Job Title         0\n",
       "Company Name      0\n",
       "Location          0\n",
       "Salary            0\n",
       "Date              0\n",
       "Job Link          0\n",
       "Company Rating    0\n",
       "dtype: int64"
      ]
     },
     "execution_count": 32,
     "metadata": {},
     "output_type": "execute_result"
    }
   ],
   "source": [
    "df.isna().sum()"
   ]
  },
  {
   "cell_type": "code",
   "execution_count": 34,
   "metadata": {},
   "outputs": [
    {
     "data": {
      "text/plain": [
       "(392, 8)"
      ]
     },
     "execution_count": 34,
     "metadata": {},
     "output_type": "execute_result"
    }
   ],
   "source": [
    "df.shape"
   ]
  },
  {
   "cell_type": "code",
   "execution_count": 35,
   "metadata": {},
   "outputs": [
    {
     "data": {
      "text/plain": [
       "Index(['Position', 'Job Title', 'Company Name', 'Location', 'Salary', 'Date',\n",
       "       'Job Link', 'Company Rating'],\n",
       "      dtype='object')"
      ]
     },
     "execution_count": 35,
     "metadata": {},
     "output_type": "execute_result"
    }
   ],
   "source": [
    "df.columns"
   ]
  },
  {
   "cell_type": "code",
   "execution_count": 36,
   "metadata": {},
   "outputs": [
    {
     "data": {
      "text/html": [
       "<div>\n",
       "<style scoped>\n",
       "    .dataframe tbody tr th:only-of-type {\n",
       "        vertical-align: middle;\n",
       "    }\n",
       "\n",
       "    .dataframe tbody tr th {\n",
       "        vertical-align: top;\n",
       "    }\n",
       "\n",
       "    .dataframe thead th {\n",
       "        text-align: right;\n",
       "    }\n",
       "</style>\n",
       "<table border=\"1\" class=\"dataframe\">\n",
       "  <thead>\n",
       "    <tr style=\"text-align: right;\">\n",
       "      <th></th>\n",
       "      <th>Position</th>\n",
       "      <th>Job Title</th>\n",
       "      <th>Company Name</th>\n",
       "      <th>Location</th>\n",
       "      <th>Salary</th>\n",
       "      <th>Date</th>\n",
       "      <th>Job Link</th>\n",
       "      <th>Company Rating</th>\n",
       "    </tr>\n",
       "  </thead>\n",
       "  <tbody>\n",
       "    <tr>\n",
       "      <th>0</th>\n",
       "      <td>1</td>\n",
       "      <td>Associate Stop Loss Underwriter</td>\n",
       "      <td>The Insurance Center\\n2.7</td>\n",
       "      <td>Onalaska, WI</td>\n",
       "      <td>$57K - $84K (Glassdoor est.)</td>\n",
       "      <td>30d+</td>\n",
       "      <td>https://www.glassdoor.com/partner/jobListing.h...</td>\n",
       "      <td>2.7</td>\n",
       "    </tr>\n",
       "    <tr>\n",
       "      <th>1</th>\n",
       "      <td>2</td>\n",
       "      <td>Manager of Data Science</td>\n",
       "      <td>Nuvative, Inc.\\n3.4</td>\n",
       "      <td>Wichita, KS</td>\n",
       "      <td>$106K - $157K (Glassdoor est.)</td>\n",
       "      <td>30d+</td>\n",
       "      <td>https://www.glassdoor.com/partner/jobListing.h...</td>\n",
       "      <td>3.4</td>\n",
       "    </tr>\n",
       "    <tr>\n",
       "      <th>2</th>\n",
       "      <td>3</td>\n",
       "      <td>Senior Data Product Manager</td>\n",
       "      <td>ProviderTrust\\n4.2</td>\n",
       "      <td>Nashville, TN</td>\n",
       "      <td>$105K - $141K (Glassdoor est.)</td>\n",
       "      <td>11d</td>\n",
       "      <td>https://www.glassdoor.com/partner/jobListing.h...</td>\n",
       "      <td>4.2</td>\n",
       "    </tr>\n",
       "    <tr>\n",
       "      <th>3</th>\n",
       "      <td>4</td>\n",
       "      <td>Oncology Nurse Navigator</td>\n",
       "      <td>Inizio Engage\\n3.6</td>\n",
       "      <td>Portland, OR</td>\n",
       "      <td>$90K - $113K (Employer est.)</td>\n",
       "      <td>1d</td>\n",
       "      <td>https://www.glassdoor.com/partner/jobListing.h...</td>\n",
       "      <td>3.6</td>\n",
       "    </tr>\n",
       "    <tr>\n",
       "      <th>4</th>\n",
       "      <td>5</td>\n",
       "      <td>Head of Artificial Intelligence – Americas Region</td>\n",
       "      <td>Covestro\\n3.6</td>\n",
       "      <td>Pittsburgh, PA</td>\n",
       "      <td>$89K - $148K (Glassdoor est.)</td>\n",
       "      <td>30d+</td>\n",
       "      <td>https://www.glassdoor.com/partner/jobListing.h...</td>\n",
       "      <td>3.6</td>\n",
       "    </tr>\n",
       "  </tbody>\n",
       "</table>\n",
       "</div>"
      ],
      "text/plain": [
       "   Position                                          Job Title  \\\n",
       "0         1                    Associate Stop Loss Underwriter   \n",
       "1         2                            Manager of Data Science   \n",
       "2         3                        Senior Data Product Manager   \n",
       "3         4                           Oncology Nurse Navigator   \n",
       "4         5  Head of Artificial Intelligence – Americas Region   \n",
       "\n",
       "                Company Name        Location                          Salary  \\\n",
       "0  The Insurance Center\\n2.7    Onalaska, WI    $57K - $84K (Glassdoor est.)   \n",
       "1        Nuvative, Inc.\\n3.4     Wichita, KS  $106K - $157K (Glassdoor est.)   \n",
       "2         ProviderTrust\\n4.2   Nashville, TN  $105K - $141K (Glassdoor est.)   \n",
       "3         Inizio Engage\\n3.6    Portland, OR    $90K - $113K (Employer est.)   \n",
       "4              Covestro\\n3.6  Pittsburgh, PA   $89K - $148K (Glassdoor est.)   \n",
       "\n",
       "   Date                                           Job Link  Company Rating  \n",
       "0  30d+  https://www.glassdoor.com/partner/jobListing.h...             2.7  \n",
       "1  30d+  https://www.glassdoor.com/partner/jobListing.h...             3.4  \n",
       "2   11d  https://www.glassdoor.com/partner/jobListing.h...             4.2  \n",
       "3    1d  https://www.glassdoor.com/partner/jobListing.h...             3.6  \n",
       "4  30d+  https://www.glassdoor.com/partner/jobListing.h...             3.6  "
      ]
     },
     "execution_count": 36,
     "metadata": {},
     "output_type": "execute_result"
    }
   ],
   "source": [
    "df.head()"
   ]
  },
  {
   "cell_type": "code",
   "execution_count": 37,
   "metadata": {},
   "outputs": [],
   "source": [
    "import re"
   ]
  },
  {
   "cell_type": "code",
   "execution_count": 38,
   "metadata": {},
   "outputs": [],
   "source": []
  },
  {
   "cell_type": "code",
   "execution_count": 39,
   "metadata": {},
   "outputs": [
    {
     "data": {
      "text/html": [
       "<div>\n",
       "<style scoped>\n",
       "    .dataframe tbody tr th:only-of-type {\n",
       "        vertical-align: middle;\n",
       "    }\n",
       "\n",
       "    .dataframe tbody tr th {\n",
       "        vertical-align: top;\n",
       "    }\n",
       "\n",
       "    .dataframe thead th {\n",
       "        text-align: right;\n",
       "    }\n",
       "</style>\n",
       "<table border=\"1\" class=\"dataframe\">\n",
       "  <thead>\n",
       "    <tr style=\"text-align: right;\">\n",
       "      <th></th>\n",
       "      <th>Position</th>\n",
       "      <th>Job Title</th>\n",
       "      <th>Company Name</th>\n",
       "      <th>Location</th>\n",
       "      <th>Salary</th>\n",
       "      <th>Date</th>\n",
       "      <th>Job Link</th>\n",
       "      <th>Company Rating</th>\n",
       "    </tr>\n",
       "  </thead>\n",
       "  <tbody>\n",
       "    <tr>\n",
       "      <th>0</th>\n",
       "      <td>1</td>\n",
       "      <td>Associate Stop Loss Underwriter</td>\n",
       "      <td>The Insurance Center\\n2.7</td>\n",
       "      <td>Onalaska, WI</td>\n",
       "      <td>$57K - $84K (Glassdoor est.)</td>\n",
       "      <td>30d+</td>\n",
       "      <td>https://www.glassdoor.com/partner/jobListing.h...</td>\n",
       "      <td>2.7</td>\n",
       "    </tr>\n",
       "    <tr>\n",
       "      <th>1</th>\n",
       "      <td>2</td>\n",
       "      <td>Manager of Data Science</td>\n",
       "      <td>Nuvative, Inc.\\n3.4</td>\n",
       "      <td>Wichita, KS</td>\n",
       "      <td>$106K - $157K (Glassdoor est.)</td>\n",
       "      <td>30d+</td>\n",
       "      <td>https://www.glassdoor.com/partner/jobListing.h...</td>\n",
       "      <td>3.4</td>\n",
       "    </tr>\n",
       "    <tr>\n",
       "      <th>2</th>\n",
       "      <td>3</td>\n",
       "      <td>Senior Data Product Manager</td>\n",
       "      <td>ProviderTrust\\n4.2</td>\n",
       "      <td>Nashville, TN</td>\n",
       "      <td>$105K - $141K (Glassdoor est.)</td>\n",
       "      <td>11d</td>\n",
       "      <td>https://www.glassdoor.com/partner/jobListing.h...</td>\n",
       "      <td>4.2</td>\n",
       "    </tr>\n",
       "    <tr>\n",
       "      <th>3</th>\n",
       "      <td>4</td>\n",
       "      <td>Oncology Nurse Navigator</td>\n",
       "      <td>Inizio Engage\\n3.6</td>\n",
       "      <td>Portland, OR</td>\n",
       "      <td>$90K - $113K (Employer est.)</td>\n",
       "      <td>1d</td>\n",
       "      <td>https://www.glassdoor.com/partner/jobListing.h...</td>\n",
       "      <td>3.6</td>\n",
       "    </tr>\n",
       "    <tr>\n",
       "      <th>4</th>\n",
       "      <td>5</td>\n",
       "      <td>Head of Artificial Intelligence – Americas Region</td>\n",
       "      <td>Covestro\\n3.6</td>\n",
       "      <td>Pittsburgh, PA</td>\n",
       "      <td>$89K - $148K (Glassdoor est.)</td>\n",
       "      <td>30d+</td>\n",
       "      <td>https://www.glassdoor.com/partner/jobListing.h...</td>\n",
       "      <td>3.6</td>\n",
       "    </tr>\n",
       "  </tbody>\n",
       "</table>\n",
       "</div>"
      ],
      "text/plain": [
       "   Position                                          Job Title  \\\n",
       "0         1                    Associate Stop Loss Underwriter   \n",
       "1         2                            Manager of Data Science   \n",
       "2         3                        Senior Data Product Manager   \n",
       "3         4                           Oncology Nurse Navigator   \n",
       "4         5  Head of Artificial Intelligence – Americas Region   \n",
       "\n",
       "                Company Name        Location                          Salary  \\\n",
       "0  The Insurance Center\\n2.7    Onalaska, WI    $57K - $84K (Glassdoor est.)   \n",
       "1        Nuvative, Inc.\\n3.4     Wichita, KS  $106K - $157K (Glassdoor est.)   \n",
       "2         ProviderTrust\\n4.2   Nashville, TN  $105K - $141K (Glassdoor est.)   \n",
       "3         Inizio Engage\\n3.6    Portland, OR    $90K - $113K (Employer est.)   \n",
       "4              Covestro\\n3.6  Pittsburgh, PA   $89K - $148K (Glassdoor est.)   \n",
       "\n",
       "   Date                                           Job Link  Company Rating  \n",
       "0  30d+  https://www.glassdoor.com/partner/jobListing.h...             2.7  \n",
       "1  30d+  https://www.glassdoor.com/partner/jobListing.h...             3.4  \n",
       "2   11d  https://www.glassdoor.com/partner/jobListing.h...             4.2  \n",
       "3    1d  https://www.glassdoor.com/partner/jobListing.h...             3.6  \n",
       "4  30d+  https://www.glassdoor.com/partner/jobListing.h...             3.6  "
      ]
     },
     "execution_count": 39,
     "metadata": {},
     "output_type": "execute_result"
    }
   ],
   "source": [
    "df.head()"
   ]
  },
  {
   "cell_type": "code",
   "execution_count": 40,
   "metadata": {},
   "outputs": [],
   "source": [
    "# clean and standardize comapny name\n",
    "def clean_company_name(company_name):\n",
    "    return company_name.split('\\n')[0].strip()"
   ]
  },
  {
   "cell_type": "code",
   "execution_count": 41,
   "metadata": {},
   "outputs": [],
   "source": [
    "# apply cleaning function to 'Company Name' column\n",
    "df['Company Name'] = df['Company Name'].apply(clean_company_name)"
   ]
  },
  {
   "cell_type": "code",
   "execution_count": 42,
   "metadata": {},
   "outputs": [
    {
     "data": {
      "text/html": [
       "<div>\n",
       "<style scoped>\n",
       "    .dataframe tbody tr th:only-of-type {\n",
       "        vertical-align: middle;\n",
       "    }\n",
       "\n",
       "    .dataframe tbody tr th {\n",
       "        vertical-align: top;\n",
       "    }\n",
       "\n",
       "    .dataframe thead th {\n",
       "        text-align: right;\n",
       "    }\n",
       "</style>\n",
       "<table border=\"1\" class=\"dataframe\">\n",
       "  <thead>\n",
       "    <tr style=\"text-align: right;\">\n",
       "      <th></th>\n",
       "      <th>Position</th>\n",
       "      <th>Job Title</th>\n",
       "      <th>Company Name</th>\n",
       "      <th>Location</th>\n",
       "      <th>Salary</th>\n",
       "      <th>Date</th>\n",
       "      <th>Job Link</th>\n",
       "      <th>Company Rating</th>\n",
       "    </tr>\n",
       "  </thead>\n",
       "  <tbody>\n",
       "    <tr>\n",
       "      <th>0</th>\n",
       "      <td>1</td>\n",
       "      <td>Associate Stop Loss Underwriter</td>\n",
       "      <td>The Insurance Center</td>\n",
       "      <td>Onalaska, WI</td>\n",
       "      <td>$57K - $84K (Glassdoor est.)</td>\n",
       "      <td>30d+</td>\n",
       "      <td>https://www.glassdoor.com/partner/jobListing.h...</td>\n",
       "      <td>2.7</td>\n",
       "    </tr>\n",
       "    <tr>\n",
       "      <th>1</th>\n",
       "      <td>2</td>\n",
       "      <td>Manager of Data Science</td>\n",
       "      <td>Nuvative, Inc.</td>\n",
       "      <td>Wichita, KS</td>\n",
       "      <td>$106K - $157K (Glassdoor est.)</td>\n",
       "      <td>30d+</td>\n",
       "      <td>https://www.glassdoor.com/partner/jobListing.h...</td>\n",
       "      <td>3.4</td>\n",
       "    </tr>\n",
       "    <tr>\n",
       "      <th>2</th>\n",
       "      <td>3</td>\n",
       "      <td>Senior Data Product Manager</td>\n",
       "      <td>ProviderTrust</td>\n",
       "      <td>Nashville, TN</td>\n",
       "      <td>$105K - $141K (Glassdoor est.)</td>\n",
       "      <td>11d</td>\n",
       "      <td>https://www.glassdoor.com/partner/jobListing.h...</td>\n",
       "      <td>4.2</td>\n",
       "    </tr>\n",
       "    <tr>\n",
       "      <th>3</th>\n",
       "      <td>4</td>\n",
       "      <td>Oncology Nurse Navigator</td>\n",
       "      <td>Inizio Engage</td>\n",
       "      <td>Portland, OR</td>\n",
       "      <td>$90K - $113K (Employer est.)</td>\n",
       "      <td>1d</td>\n",
       "      <td>https://www.glassdoor.com/partner/jobListing.h...</td>\n",
       "      <td>3.6</td>\n",
       "    </tr>\n",
       "    <tr>\n",
       "      <th>4</th>\n",
       "      <td>5</td>\n",
       "      <td>Head of Artificial Intelligence – Americas Region</td>\n",
       "      <td>Covestro</td>\n",
       "      <td>Pittsburgh, PA</td>\n",
       "      <td>$89K - $148K (Glassdoor est.)</td>\n",
       "      <td>30d+</td>\n",
       "      <td>https://www.glassdoor.com/partner/jobListing.h...</td>\n",
       "      <td>3.6</td>\n",
       "    </tr>\n",
       "  </tbody>\n",
       "</table>\n",
       "</div>"
      ],
      "text/plain": [
       "   Position                                          Job Title  \\\n",
       "0         1                    Associate Stop Loss Underwriter   \n",
       "1         2                            Manager of Data Science   \n",
       "2         3                        Senior Data Product Manager   \n",
       "3         4                           Oncology Nurse Navigator   \n",
       "4         5  Head of Artificial Intelligence – Americas Region   \n",
       "\n",
       "           Company Name        Location                          Salary  Date  \\\n",
       "0  The Insurance Center    Onalaska, WI    $57K - $84K (Glassdoor est.)  30d+   \n",
       "1        Nuvative, Inc.     Wichita, KS  $106K - $157K (Glassdoor est.)  30d+   \n",
       "2         ProviderTrust   Nashville, TN  $105K - $141K (Glassdoor est.)   11d   \n",
       "3         Inizio Engage    Portland, OR    $90K - $113K (Employer est.)    1d   \n",
       "4              Covestro  Pittsburgh, PA   $89K - $148K (Glassdoor est.)  30d+   \n",
       "\n",
       "                                            Job Link  Company Rating  \n",
       "0  https://www.glassdoor.com/partner/jobListing.h...             2.7  \n",
       "1  https://www.glassdoor.com/partner/jobListing.h...             3.4  \n",
       "2  https://www.glassdoor.com/partner/jobListing.h...             4.2  \n",
       "3  https://www.glassdoor.com/partner/jobListing.h...             3.6  \n",
       "4  https://www.glassdoor.com/partner/jobListing.h...             3.6  "
      ]
     },
     "execution_count": 42,
     "metadata": {},
     "output_type": "execute_result"
    }
   ],
   "source": [
    "df.head()"
   ]
  },
  {
   "cell_type": "code",
   "execution_count": 43,
   "metadata": {},
   "outputs": [],
   "source": [
    "# standarsize salary range\n",
    "def standardize_salary_range(salary_str):\n",
    "    pattern = r'\\$(\\d+)K - \\$(\\d+)K'\n",
    "    match = re.match(pattern, salary_str)\n",
    "    if match:\n",
    "        min_salary = int(match.group(1)) * 1000\n",
    "        max_salary = int(match.group(2)) * 1000\n",
    "        return min_salary, max_salary\n",
    "    else:\n",
    "        return None, None"
   ]
  },
  {
   "cell_type": "code",
   "execution_count": 44,
   "metadata": {},
   "outputs": [],
   "source": [
    "# apply standardization function to \"Salary\" column\n",
    "df['Min Salary'], df[\"Max Salary\"] = zip(*df[\"Salary\"].apply(standardize_salary_range))"
   ]
  },
  {
   "cell_type": "code",
   "execution_count": 45,
   "metadata": {},
   "outputs": [
    {
     "data": {
      "text/html": [
       "<div>\n",
       "<style scoped>\n",
       "    .dataframe tbody tr th:only-of-type {\n",
       "        vertical-align: middle;\n",
       "    }\n",
       "\n",
       "    .dataframe tbody tr th {\n",
       "        vertical-align: top;\n",
       "    }\n",
       "\n",
       "    .dataframe thead th {\n",
       "        text-align: right;\n",
       "    }\n",
       "</style>\n",
       "<table border=\"1\" class=\"dataframe\">\n",
       "  <thead>\n",
       "    <tr style=\"text-align: right;\">\n",
       "      <th></th>\n",
       "      <th>Position</th>\n",
       "      <th>Job Title</th>\n",
       "      <th>Company Name</th>\n",
       "      <th>Location</th>\n",
       "      <th>Salary</th>\n",
       "      <th>Date</th>\n",
       "      <th>Job Link</th>\n",
       "      <th>Company Rating</th>\n",
       "      <th>Min Salary</th>\n",
       "      <th>Max Salary</th>\n",
       "    </tr>\n",
       "  </thead>\n",
       "  <tbody>\n",
       "    <tr>\n",
       "      <th>0</th>\n",
       "      <td>1</td>\n",
       "      <td>Associate Stop Loss Underwriter</td>\n",
       "      <td>The Insurance Center</td>\n",
       "      <td>Onalaska, WI</td>\n",
       "      <td>$57K - $84K (Glassdoor est.)</td>\n",
       "      <td>30d+</td>\n",
       "      <td>https://www.glassdoor.com/partner/jobListing.h...</td>\n",
       "      <td>2.7</td>\n",
       "      <td>57000.0</td>\n",
       "      <td>84000.0</td>\n",
       "    </tr>\n",
       "    <tr>\n",
       "      <th>1</th>\n",
       "      <td>2</td>\n",
       "      <td>Manager of Data Science</td>\n",
       "      <td>Nuvative, Inc.</td>\n",
       "      <td>Wichita, KS</td>\n",
       "      <td>$106K - $157K (Glassdoor est.)</td>\n",
       "      <td>30d+</td>\n",
       "      <td>https://www.glassdoor.com/partner/jobListing.h...</td>\n",
       "      <td>3.4</td>\n",
       "      <td>106000.0</td>\n",
       "      <td>157000.0</td>\n",
       "    </tr>\n",
       "    <tr>\n",
       "      <th>2</th>\n",
       "      <td>3</td>\n",
       "      <td>Senior Data Product Manager</td>\n",
       "      <td>ProviderTrust</td>\n",
       "      <td>Nashville, TN</td>\n",
       "      <td>$105K - $141K (Glassdoor est.)</td>\n",
       "      <td>11d</td>\n",
       "      <td>https://www.glassdoor.com/partner/jobListing.h...</td>\n",
       "      <td>4.2</td>\n",
       "      <td>105000.0</td>\n",
       "      <td>141000.0</td>\n",
       "    </tr>\n",
       "    <tr>\n",
       "      <th>3</th>\n",
       "      <td>4</td>\n",
       "      <td>Oncology Nurse Navigator</td>\n",
       "      <td>Inizio Engage</td>\n",
       "      <td>Portland, OR</td>\n",
       "      <td>$90K - $113K (Employer est.)</td>\n",
       "      <td>1d</td>\n",
       "      <td>https://www.glassdoor.com/partner/jobListing.h...</td>\n",
       "      <td>3.6</td>\n",
       "      <td>90000.0</td>\n",
       "      <td>113000.0</td>\n",
       "    </tr>\n",
       "    <tr>\n",
       "      <th>4</th>\n",
       "      <td>5</td>\n",
       "      <td>Head of Artificial Intelligence – Americas Region</td>\n",
       "      <td>Covestro</td>\n",
       "      <td>Pittsburgh, PA</td>\n",
       "      <td>$89K - $148K (Glassdoor est.)</td>\n",
       "      <td>30d+</td>\n",
       "      <td>https://www.glassdoor.com/partner/jobListing.h...</td>\n",
       "      <td>3.6</td>\n",
       "      <td>89000.0</td>\n",
       "      <td>148000.0</td>\n",
       "    </tr>\n",
       "  </tbody>\n",
       "</table>\n",
       "</div>"
      ],
      "text/plain": [
       "   Position                                          Job Title  \\\n",
       "0         1                    Associate Stop Loss Underwriter   \n",
       "1         2                            Manager of Data Science   \n",
       "2         3                        Senior Data Product Manager   \n",
       "3         4                           Oncology Nurse Navigator   \n",
       "4         5  Head of Artificial Intelligence – Americas Region   \n",
       "\n",
       "           Company Name        Location                          Salary  Date  \\\n",
       "0  The Insurance Center    Onalaska, WI    $57K - $84K (Glassdoor est.)  30d+   \n",
       "1        Nuvative, Inc.     Wichita, KS  $106K - $157K (Glassdoor est.)  30d+   \n",
       "2         ProviderTrust   Nashville, TN  $105K - $141K (Glassdoor est.)   11d   \n",
       "3         Inizio Engage    Portland, OR    $90K - $113K (Employer est.)    1d   \n",
       "4              Covestro  Pittsburgh, PA   $89K - $148K (Glassdoor est.)  30d+   \n",
       "\n",
       "                                            Job Link  Company Rating  \\\n",
       "0  https://www.glassdoor.com/partner/jobListing.h...             2.7   \n",
       "1  https://www.glassdoor.com/partner/jobListing.h...             3.4   \n",
       "2  https://www.glassdoor.com/partner/jobListing.h...             4.2   \n",
       "3  https://www.glassdoor.com/partner/jobListing.h...             3.6   \n",
       "4  https://www.glassdoor.com/partner/jobListing.h...             3.6   \n",
       "\n",
       "   Min Salary  Max Salary  \n",
       "0     57000.0     84000.0  \n",
       "1    106000.0    157000.0  \n",
       "2    105000.0    141000.0  \n",
       "3     90000.0    113000.0  \n",
       "4     89000.0    148000.0  "
      ]
     },
     "execution_count": 45,
     "metadata": {},
     "output_type": "execute_result"
    }
   ],
   "source": [
    "df.head()"
   ]
  },
  {
   "cell_type": "code",
   "execution_count": 46,
   "metadata": {},
   "outputs": [],
   "source": [
    "df.drop(columns=['Salary'], inplace=True)"
   ]
  },
  {
   "cell_type": "code",
   "execution_count": 47,
   "metadata": {},
   "outputs": [
    {
     "data": {
      "text/plain": [
       "Index(['Position', 'Job Title', 'Company Name', 'Location', 'Date', 'Job Link',\n",
       "       'Company Rating', 'Min Salary', 'Max Salary'],\n",
       "      dtype='object')"
      ]
     },
     "execution_count": 47,
     "metadata": {},
     "output_type": "execute_result"
    }
   ],
   "source": [
    "df.columns"
   ]
  },
  {
   "cell_type": "code",
   "execution_count": 48,
   "metadata": {},
   "outputs": [
    {
     "data": {
      "text/plain": [
       "<bound method DataFrame.count of Empty DataFrame\n",
       "Columns: [Position, Job Title, Company Name, Location, Date, Job Link, Company Rating, Min Salary, Max Salary]\n",
       "Index: []>"
      ]
     },
     "execution_count": 48,
     "metadata": {},
     "output_type": "execute_result"
    }
   ],
   "source": [
    "df[df.duplicated].count"
   ]
  },
  {
   "cell_type": "code",
   "execution_count": 49,
   "metadata": {},
   "outputs": [
    {
     "data": {
      "text/html": [
       "<div>\n",
       "<style scoped>\n",
       "    .dataframe tbody tr th:only-of-type {\n",
       "        vertical-align: middle;\n",
       "    }\n",
       "\n",
       "    .dataframe tbody tr th {\n",
       "        vertical-align: top;\n",
       "    }\n",
       "\n",
       "    .dataframe thead th {\n",
       "        text-align: right;\n",
       "    }\n",
       "</style>\n",
       "<table border=\"1\" class=\"dataframe\">\n",
       "  <thead>\n",
       "    <tr style=\"text-align: right;\">\n",
       "      <th></th>\n",
       "      <th>Position</th>\n",
       "      <th>Job Title</th>\n",
       "      <th>Company Name</th>\n",
       "      <th>Location</th>\n",
       "      <th>Date</th>\n",
       "      <th>Job Link</th>\n",
       "      <th>Company Rating</th>\n",
       "      <th>Min Salary</th>\n",
       "      <th>Max Salary</th>\n",
       "    </tr>\n",
       "  </thead>\n",
       "  <tbody>\n",
       "  </tbody>\n",
       "</table>\n",
       "</div>"
      ],
      "text/plain": [
       "Empty DataFrame\n",
       "Columns: [Position, Job Title, Company Name, Location, Date, Job Link, Company Rating, Min Salary, Max Salary]\n",
       "Index: []"
      ]
     },
     "execution_count": 49,
     "metadata": {},
     "output_type": "execute_result"
    }
   ],
   "source": [
    "df[df.duplicated]"
   ]
  },
  {
   "cell_type": "code",
   "execution_count": 50,
   "metadata": {},
   "outputs": [],
   "source": [
    "##### job listing by location #####\n",
    "location_counts = df[\"Location\"].value_counts()"
   ]
  },
  {
   "cell_type": "code",
   "execution_count": 51,
   "metadata": {},
   "outputs": [
    {
     "name": "stdout",
     "output_type": "stream",
     "text": [
      "Location\n",
      "Riverwoods, IL    31\n",
      "Remote            22\n",
      "New York, NY      21\n",
      "McLean, VA        13\n",
      "Seattle, WA       10\n",
      "                  ..\n",
      "Rensselaer, NY     1\n",
      "Arlington, VA      1\n",
      "Madison, WI        1\n",
      "Franklin, TN       1\n",
      "Bethesda, MD       1\n",
      "Name: count, Length: 133, dtype: int64\n"
     ]
    }
   ],
   "source": [
    "print(location_counts)"
   ]
  },
  {
   "cell_type": "code",
   "execution_count": 52,
   "metadata": {},
   "outputs": [],
   "source": [
    "# find most common job title\n",
    "count_job_titles = df[\"Job Title\"].value_counts()"
   ]
  },
  {
   "cell_type": "code",
   "execution_count": 53,
   "metadata": {},
   "outputs": [
    {
     "name": "stdout",
     "output_type": "stream",
     "text": [
      "Job Title\n",
      "Data Scientist                                                                            23\n",
      "Senior Data Scientist                                                                     10\n",
      "Senior Manager Data Science                                                                8\n",
      "Principal Data Science                                                                     8\n",
      "Field Data Collector (PPC)                                                                 7\n",
      "                                                                                          ..\n",
      "Postdoctoral Scientist - Data Science (Digital Measurement)                                1\n",
      "Sr Engineer (Data Science)                                                                 1\n",
      "Quantitative Analytics Senior - Climate Risk (Hybrid - 3 Days in Office)                   1\n",
      "Data Scientist - Analytics                                                                 1\n",
      "Tchr of English- Newark School of Data Science and Information Technology 24-25 (NBOE)     1\n",
      "Name: count, Length: 226, dtype: int64\n"
     ]
    }
   ],
   "source": [
    "print(count_job_titles)"
   ]
  },
  {
   "cell_type": "code",
   "execution_count": 54,
   "metadata": {},
   "outputs": [
    {
     "data": {
      "text/plain": [
       "Job Title\n",
       "Data Scientist                                              23\n",
       "Senior Data Scientist                                       10\n",
       "Senior Manager Data Science                                  8\n",
       "Principal Data Science                                       8\n",
       "Field Data Collector (PPC)                                   7\n",
       "Data Engineer (PO)                                           5\n",
       "Senior Data Science Analyst                                  5\n",
       "Engineer, Generative AI                                      5\n",
       "Data Analyst                                                 5\n",
       "Data Scientist - Secureworks - Atlanta, GA or Remote, US     4\n",
       "Name: count, dtype: int64"
      ]
     },
     "execution_count": 54,
     "metadata": {},
     "output_type": "execute_result"
    }
   ],
   "source": [
    "# top 10 job titles\n",
    "count_job_titles.head(10)"
   ]
  },
  {
   "cell_type": "code",
   "execution_count": 56,
   "metadata": {},
   "outputs": [
    {
     "data": {
      "text/plain": [
       "Index(['Position', 'Job Title', 'Company Name', 'Location', 'Date', 'Job Link',\n",
       "       'Company Rating', 'Min Salary', 'Max Salary'],\n",
       "      dtype='object')"
      ]
     },
     "execution_count": 56,
     "metadata": {},
     "output_type": "execute_result"
    }
   ],
   "source": [
    "df.columns"
   ]
  },
  {
   "cell_type": "code",
   "execution_count": 61,
   "metadata": {},
   "outputs": [],
   "source": [
    "salary_title_location_subset = df.loc[:, [\"Job Title\", \"Location\", \"Min Salary\", \"Max Salary\"]]"
   ]
  },
  {
   "cell_type": "code",
   "execution_count": 66,
   "metadata": {},
   "outputs": [
    {
     "data": {
      "text/html": [
       "<div>\n",
       "<style scoped>\n",
       "    .dataframe tbody tr th:only-of-type {\n",
       "        vertical-align: middle;\n",
       "    }\n",
       "\n",
       "    .dataframe tbody tr th {\n",
       "        vertical-align: top;\n",
       "    }\n",
       "\n",
       "    .dataframe thead th {\n",
       "        text-align: right;\n",
       "    }\n",
       "</style>\n",
       "<table border=\"1\" class=\"dataframe\">\n",
       "  <thead>\n",
       "    <tr style=\"text-align: right;\">\n",
       "      <th></th>\n",
       "      <th>Job Title</th>\n",
       "      <th>Location</th>\n",
       "      <th>Min Salary</th>\n",
       "      <th>Max Salary</th>\n",
       "    </tr>\n",
       "  </thead>\n",
       "  <tbody>\n",
       "    <tr>\n",
       "      <th>23</th>\n",
       "      <td>Junior Game Mathematician</td>\n",
       "      <td>Vernon Hills, IL</td>\n",
       "      <td>37000.0</td>\n",
       "      <td>55000.0</td>\n",
       "    </tr>\n",
       "    <tr>\n",
       "      <th>266</th>\n",
       "      <td>Business Intelligence Analyst</td>\n",
       "      <td>Remote</td>\n",
       "      <td>50000.0</td>\n",
       "      <td>60000.0</td>\n",
       "    </tr>\n",
       "    <tr>\n",
       "      <th>142</th>\n",
       "      <td>Rapid Deployment Representative</td>\n",
       "      <td>Chicago, IL</td>\n",
       "      <td>51000.0</td>\n",
       "      <td>80000.0</td>\n",
       "    </tr>\n",
       "    <tr>\n",
       "      <th>280</th>\n",
       "      <td>Medical Science Liaison, Endocrinology/Rare Di...</td>\n",
       "      <td>Dallas, TX</td>\n",
       "      <td>51000.0</td>\n",
       "      <td>95000.0</td>\n",
       "    </tr>\n",
       "    <tr>\n",
       "      <th>429</th>\n",
       "      <td>Medical Science Liaison, Endocrinology/Rare Di...</td>\n",
       "      <td>Dallas, TX</td>\n",
       "      <td>51000.0</td>\n",
       "      <td>95000.0</td>\n",
       "    </tr>\n",
       "    <tr>\n",
       "      <th>377</th>\n",
       "      <td>Senior Analyst, eCommerce Search</td>\n",
       "      <td>Radnor, PA</td>\n",
       "      <td>51000.0</td>\n",
       "      <td>78000.0</td>\n",
       "    </tr>\n",
       "    <tr>\n",
       "      <th>49</th>\n",
       "      <td>Statistician</td>\n",
       "      <td>Fort Worth, TX</td>\n",
       "      <td>52000.0</td>\n",
       "      <td>82000.0</td>\n",
       "    </tr>\n",
       "    <tr>\n",
       "      <th>462</th>\n",
       "      <td>Financial Crimes Compliance Model Analyst - Re...</td>\n",
       "      <td>Miami Lakes, FL</td>\n",
       "      <td>52000.0</td>\n",
       "      <td>78000.0</td>\n",
       "    </tr>\n",
       "    <tr>\n",
       "      <th>282</th>\n",
       "      <td>Financial Crimes Compliance Model Analyst - Re...</td>\n",
       "      <td>Miami Lakes, FL</td>\n",
       "      <td>52000.0</td>\n",
       "      <td>78000.0</td>\n",
       "    </tr>\n",
       "    <tr>\n",
       "      <th>127</th>\n",
       "      <td>Health edge Consultant</td>\n",
       "      <td>Hartford, CT</td>\n",
       "      <td>53000.0</td>\n",
       "      <td>77000.0</td>\n",
       "    </tr>\n",
       "  </tbody>\n",
       "</table>\n",
       "</div>"
      ],
      "text/plain": [
       "                                             Job Title          Location  \\\n",
       "23                           Junior Game Mathematician  Vernon Hills, IL   \n",
       "266                      Business Intelligence Analyst            Remote   \n",
       "142                    Rapid Deployment Representative       Chicago, IL   \n",
       "280  Medical Science Liaison, Endocrinology/Rare Di...        Dallas, TX   \n",
       "429  Medical Science Liaison, Endocrinology/Rare Di...        Dallas, TX   \n",
       "377                   Senior Analyst, eCommerce Search        Radnor, PA   \n",
       "49                                        Statistician    Fort Worth, TX   \n",
       "462  Financial Crimes Compliance Model Analyst - Re...   Miami Lakes, FL   \n",
       "282  Financial Crimes Compliance Model Analyst - Re...   Miami Lakes, FL   \n",
       "127                             Health edge Consultant      Hartford, CT   \n",
       "\n",
       "     Min Salary  Max Salary  \n",
       "23      37000.0     55000.0  \n",
       "266     50000.0     60000.0  \n",
       "142     51000.0     80000.0  \n",
       "280     51000.0     95000.0  \n",
       "429     51000.0     95000.0  \n",
       "377     51000.0     78000.0  \n",
       "49      52000.0     82000.0  \n",
       "462     52000.0     78000.0  \n",
       "282     52000.0     78000.0  \n",
       "127     53000.0     77000.0  "
      ]
     },
     "execution_count": 66,
     "metadata": {},
     "output_type": "execute_result"
    }
   ],
   "source": [
    "salary_title_location_subset.sort_values(by=\"Min Salary\", ascending=True).head(10)"
   ]
  },
  {
   "cell_type": "code",
   "execution_count": 72,
   "metadata": {},
   "outputs": [
    {
     "data": {
      "text/html": [
       "<div>\n",
       "<style scoped>\n",
       "    .dataframe tbody tr th:only-of-type {\n",
       "        vertical-align: middle;\n",
       "    }\n",
       "\n",
       "    .dataframe tbody tr th {\n",
       "        vertical-align: top;\n",
       "    }\n",
       "\n",
       "    .dataframe thead th {\n",
       "        text-align: right;\n",
       "    }\n",
       "</style>\n",
       "<table border=\"1\" class=\"dataframe\">\n",
       "  <thead>\n",
       "    <tr style=\"text-align: right;\">\n",
       "      <th></th>\n",
       "      <th>Job Title</th>\n",
       "      <th>Location</th>\n",
       "      <th>Min Salary</th>\n",
       "      <th>Max Salary</th>\n",
       "    </tr>\n",
       "  </thead>\n",
       "  <tbody>\n",
       "    <tr>\n",
       "      <th>155</th>\n",
       "      <td>Reliability, Availability and Serviceability E...</td>\n",
       "      <td>Santa Clara, CA</td>\n",
       "      <td>188000.0</td>\n",
       "      <td>357000.0</td>\n",
       "    </tr>\n",
       "    <tr>\n",
       "      <th>216</th>\n",
       "      <td>Reliability, Availability and Serviceability E...</td>\n",
       "      <td>Santa Clara, CA</td>\n",
       "      <td>188000.0</td>\n",
       "      <td>357000.0</td>\n",
       "    </tr>\n",
       "    <tr>\n",
       "      <th>424</th>\n",
       "      <td>Reliability, Availability and Serviceability E...</td>\n",
       "      <td>Santa Clara, CA</td>\n",
       "      <td>188000.0</td>\n",
       "      <td>357000.0</td>\n",
       "    </tr>\n",
       "    <tr>\n",
       "      <th>302</th>\n",
       "      <td>Reliability, Availability and Serviceability E...</td>\n",
       "      <td>Santa Clara, CA</td>\n",
       "      <td>188000.0</td>\n",
       "      <td>357000.0</td>\n",
       "    </tr>\n",
       "    <tr>\n",
       "      <th>115</th>\n",
       "      <td>Senior AI-HPC Storage Engineer</td>\n",
       "      <td>Santa Clara, CA</td>\n",
       "      <td>180000.0</td>\n",
       "      <td>339000.0</td>\n",
       "    </tr>\n",
       "    <tr>\n",
       "      <th>427</th>\n",
       "      <td>Senior AI-HPC Storage Engineer</td>\n",
       "      <td>Santa Clara, CA</td>\n",
       "      <td>180000.0</td>\n",
       "      <td>339000.0</td>\n",
       "    </tr>\n",
       "    <tr>\n",
       "      <th>245</th>\n",
       "      <td>Senior Performance Software Engineer, Deep Lea...</td>\n",
       "      <td>Santa Clara, CA</td>\n",
       "      <td>180000.0</td>\n",
       "      <td>339000.0</td>\n",
       "    </tr>\n",
       "    <tr>\n",
       "      <th>251</th>\n",
       "      <td>Senior AI-HPC Storage Engineer</td>\n",
       "      <td>Santa Clara, CA</td>\n",
       "      <td>180000.0</td>\n",
       "      <td>339000.0</td>\n",
       "    </tr>\n",
       "    <tr>\n",
       "      <th>87</th>\n",
       "      <td>Senior Performance Software Engineer, Deep Lea...</td>\n",
       "      <td>Santa Clara, CA</td>\n",
       "      <td>180000.0</td>\n",
       "      <td>339000.0</td>\n",
       "    </tr>\n",
       "    <tr>\n",
       "      <th>464</th>\n",
       "      <td>Climate Risk Quantitative Analytics Director (...</td>\n",
       "      <td>McLean, VA</td>\n",
       "      <td>212000.0</td>\n",
       "      <td>318000.0</td>\n",
       "    </tr>\n",
       "  </tbody>\n",
       "</table>\n",
       "</div>"
      ],
      "text/plain": [
       "                                             Job Title         Location  \\\n",
       "155  Reliability, Availability and Serviceability E...  Santa Clara, CA   \n",
       "216  Reliability, Availability and Serviceability E...  Santa Clara, CA   \n",
       "424  Reliability, Availability and Serviceability E...  Santa Clara, CA   \n",
       "302  Reliability, Availability and Serviceability E...  Santa Clara, CA   \n",
       "115                     Senior AI-HPC Storage Engineer  Santa Clara, CA   \n",
       "427                     Senior AI-HPC Storage Engineer  Santa Clara, CA   \n",
       "245  Senior Performance Software Engineer, Deep Lea...  Santa Clara, CA   \n",
       "251                     Senior AI-HPC Storage Engineer  Santa Clara, CA   \n",
       "87   Senior Performance Software Engineer, Deep Lea...  Santa Clara, CA   \n",
       "464  Climate Risk Quantitative Analytics Director (...       McLean, VA   \n",
       "\n",
       "     Min Salary  Max Salary  \n",
       "155    188000.0    357000.0  \n",
       "216    188000.0    357000.0  \n",
       "424    188000.0    357000.0  \n",
       "302    188000.0    357000.0  \n",
       "115    180000.0    339000.0  \n",
       "427    180000.0    339000.0  \n",
       "245    180000.0    339000.0  \n",
       "251    180000.0    339000.0  \n",
       "87     180000.0    339000.0  \n",
       "464    212000.0    318000.0  "
      ]
     },
     "execution_count": 72,
     "metadata": {},
     "output_type": "execute_result"
    }
   ],
   "source": [
    "salary_title_location_subset.sort_values(by=\"Max Salary\", ascending=False).head(10)"
   ]
  },
  {
   "cell_type": "code",
   "execution_count": 74,
   "metadata": {},
   "outputs": [],
   "source": [
    "salary_stats = df.groupby(['Job Title', 'Location']).agg({\n",
    "    'Min Salary': 'mean',\n",
    "    'Max Salary': 'mean',\n",
    "    'Min Salary': 'min',\n",
    "    'Max Salary': 'max'\n",
    "})"
   ]
  },
  {
   "cell_type": "code",
   "execution_count": 76,
   "metadata": {},
   "outputs": [
    {
     "name": "stdout",
     "output_type": "stream",
     "text": [
      "Salary ranges from differnet job titles and locations: \n",
      "                                                                           Min Salary  \\\n",
      "Job Title                                          Location                             \n",
      "AI Integration Specialist                          Las Vegas, NV              54000.0   \n",
      "AI/ML Subject Matter Expert                        Springfield, VA           165000.0   \n",
      "AVP, IT SOX Manager                                Stamford, CT               75000.0   \n",
      "Advisor, Data Science & Analytics                  New York, NY              109000.0   \n",
      "Analytical Flavor Chemist                          Tustin, CA                 65000.0   \n",
      "...                                                                               ...   \n",
      "Technical Consultant (Advanced Visualization an... Alpharetta, GA             57000.0   \n",
      "Training Department Supervisor                     Palm Beach Gardens, FL     60000.0   \n",
      "VP, Portfolio Management Data Science              New York, NY              117000.0   \n",
      "Vice President, Analytics Products                 Remote                    200000.0   \n",
      "Vice President, Data Science                       Remote                    220000.0   \n",
      "\n",
      "                                                                           Max Salary  \n",
      "Job Title                                          Location                            \n",
      "AI Integration Specialist                          Las Vegas, NV              87000.0  \n",
      "AI/ML Subject Matter Expert                        Springfield, VA           175000.0  \n",
      "AVP, IT SOX Manager                                Stamford, CT              130000.0  \n",
      "Advisor, Data Science & Analytics                  New York, NY              185000.0  \n",
      "Analytical Flavor Chemist                          Tustin, CA                 80000.0  \n",
      "...                                                                               ...  \n",
      "Technical Consultant (Advanced Visualization an... Alpharetta, GA             98000.0  \n",
      "Training Department Supervisor                     Palm Beach Gardens, FL     65000.0  \n",
      "VP, Portfolio Management Data Science              New York, NY              165000.0  \n",
      "Vice President, Analytics Products                 Remote                    260000.0  \n",
      "Vice President, Data Science                       Remote                    283000.0  \n",
      "\n",
      "[259 rows x 2 columns]\n"
     ]
    }
   ],
   "source": [
    "# displaying salary statistics for different job titles and locations\n",
    "print(\"Salary ranges from differnet job titles and locations: \")\n",
    "print(salary_stats)"
   ]
  },
  {
   "cell_type": "code",
   "execution_count": 79,
   "metadata": {},
   "outputs": [
    {
     "data": {
      "text/plain": [
       "Index(['Position', 'Job Title', 'Company Name', 'Location', 'Date', 'Job Link',\n",
       "       'Company Rating', 'Min Salary', 'Max Salary'],\n",
       "      dtype='object')"
      ]
     },
     "execution_count": 79,
     "metadata": {},
     "output_type": "execute_result"
    }
   ],
   "source": [
    "df.columns"
   ]
  },
  {
   "cell_type": "code",
   "execution_count": 82,
   "metadata": {},
   "outputs": [],
   "source": [
    "# calculate correlation matrix between 'Min Salary', and 'Max Salary'\n",
    "\n",
    "correlation = df[['Min Salary', 'Max Salary']].corr()\n",
    "\n"
   ]
  },
  {
   "cell_type": "code",
   "execution_count": 83,
   "metadata": {},
   "outputs": [
    {
     "name": "stdout",
     "output_type": "stream",
     "text": [
      "            Min Salary  Max Salary\n",
      "Min Salary     1.00000     0.87826\n",
      "Max Salary     0.87826     1.00000\n"
     ]
    }
   ],
   "source": [
    "print(correlation)"
   ]
  },
  {
   "cell_type": "code",
   "execution_count": 84,
   "metadata": {},
   "outputs": [
    {
     "name": "stderr",
     "output_type": "stream",
     "text": [
      "Matplotlib is building the font cache; this may take a moment.\n"
     ]
    }
   ],
   "source": [
    "import matplotlib.pyplot as plt\n",
    "import seaborn as sns"
   ]
  },
  {
   "cell_type": "code",
   "execution_count": 86,
   "metadata": {},
   "outputs": [],
   "source": [
    "# count occurances of each job title : top 10\n",
    "top_job_title = df['Job Title'].value_counts().nlargest(10)"
   ]
  },
  {
   "cell_type": "code",
   "execution_count": 87,
   "metadata": {},
   "outputs": [
    {
     "name": "stderr",
     "output_type": "stream",
     "text": [
      "/var/folders/q2/6_bxqgtn53v7c70h1gbxmrkw0000gp/T/ipykernel_5356/2137462638.py:2: FutureWarning: \n",
      "\n",
      "Passing `palette` without assigning `hue` is deprecated and will be removed in v0.14.0. Assign the `y` variable to `hue` and set `legend=False` for the same effect.\n",
      "\n",
      "  sns.barplot(x=top_job_title.values, y=top_job_title.index, palette='viridis')\n"
     ]
    },
    {
     "data": {
      "image/png": "[encoded data removed]",
      "text/plain": [
       "<Figure size 1000x600 with 1 Axes>"
      ]
     },
     "metadata": {},
     "output_type": "display_data"
    }
   ],
   "source": [
    "plt.figure(figsize=(10, 6))\n",
    "sns.barplot(x=top_job_title.values, y=top_job_title.index, palette='viridis')\n",
    "plt.xlabel('Number of job Posting')\n",
    "plt.ylabel('Job Title')\n",
    "plt.title(\"Top ten Job Titles\")\n",
    "plt.show()"
   ]
  },
  {
   "cell_type": "code",
   "execution_count": 88,
   "metadata": {},
   "outputs": [],
   "source": [
    "# count occurances of each location: top 10\n",
    "\n",
    "top_location = df['Location'].value_counts().nlargest(10)"
   ]
  },
  {
   "cell_type": "code",
   "execution_count": 89,
   "metadata": {},
   "outputs": [
    {
     "name": "stderr",
     "output_type": "stream",
     "text": [
      "/var/folders/q2/6_bxqgtn53v7c70h1gbxmrkw0000gp/T/ipykernel_5356/1437394386.py:2: FutureWarning: \n",
      "\n",
      "Passing `palette` without assigning `hue` is deprecated and will be removed in v0.14.0. Assign the `y` variable to `hue` and set `legend=False` for the same effect.\n",
      "\n",
      "  sns.barplot(x=top_location.values, y=top_location.index, palette='plasma')\n"
     ]
    },
    {
     "data": {
      "image/png": "[encoded data removed]",
      "text/plain": [
       "<Figure size 1000x600 with 1 Axes>"
      ]
     },
     "metadata": {},
     "output_type": "display_data"
    }
   ],
   "source": [
    "plt.figure(figsize=(10, 6))\n",
    "sns.barplot(x=top_location.values, y=top_location.index, palette='plasma')\n",
    "plt.xlabel('Number of Job Postings')\n",
    "plt.ylabel('Location')\n",
    "plt.title('Top Ten Locations for Job Posting')\n",
    "plt.show()"
   ]
  },
  {
   "cell_type": "code",
   "execution_count": 90,
   "metadata": {},
   "outputs": [
    {
     "data": {
      "text/plain": [
       "Index(['Position', 'Job Title', 'Company Name', 'Location', 'Date', 'Job Link',\n",
       "       'Company Rating', 'Min Salary', 'Max Salary'],\n",
       "      dtype='object')"
      ]
     },
     "execution_count": 90,
     "metadata": {},
     "output_type": "execute_result"
    }
   ],
   "source": [
    "df.columns"
   ]
  },
  {
   "cell_type": "code",
   "execution_count": 96,
   "metadata": {},
   "outputs": [],
   "source": [
    "open_position_by_company = df.loc[:,[\"Company Name\"]].value_counts()"
   ]
  },
  {
   "cell_type": "code",
   "execution_count": 97,
   "metadata": {},
   "outputs": [
    {
     "name": "stdout",
     "output_type": "stream",
     "text": [
      "Here is the list of open positions by comapny ....\n",
      "Company Name                                     \n",
      "Discover Financial Services                          31\n",
      "Freddie Mac                                          12\n",
      "Inizio Engage                                        10\n",
      "NVIDIA                                                9\n",
      "Mathematica Policy Research                           7\n",
      "                                                     ..\n",
      "Commonwealth Health Insurance Connector Authority     1\n",
      "ConcertAI                                             1\n",
      "Convey -- US                                          1\n",
      "Luna Physical Therapy                                 1\n",
      "the NBA                                               1\n",
      "Name: count, Length: 192, dtype: int64\n"
     ]
    }
   ],
   "source": [
    "print(\"Here is the list of open positions by comapny ....\")\n",
    "print(open_position_by_company)"
   ]
  },
  {
   "cell_type": "code",
   "execution_count": 107,
   "metadata": {},
   "outputs": [
    {
     "data": {
      "text/html": [
       "<div>\n",
       "<style scoped>\n",
       "    .dataframe tbody tr th:only-of-type {\n",
       "        vertical-align: middle;\n",
       "    }\n",
       "\n",
       "    .dataframe tbody tr th {\n",
       "        vertical-align: top;\n",
       "    }\n",
       "\n",
       "    .dataframe thead th {\n",
       "        text-align: right;\n",
       "    }\n",
       "</style>\n",
       "<table border=\"1\" class=\"dataframe\">\n",
       "  <thead>\n",
       "    <tr style=\"text-align: right;\">\n",
       "      <th></th>\n",
       "      <th>Company Name</th>\n",
       "      <th>Location</th>\n",
       "      <th>Job Title</th>\n",
       "      <th>Min Salary</th>\n",
       "      <th>Max Salary</th>\n",
       "    </tr>\n",
       "  </thead>\n",
       "  <tbody>\n",
       "    <tr>\n",
       "      <th>155</th>\n",
       "      <td>NVIDIA</td>\n",
       "      <td>Santa Clara, CA</td>\n",
       "      <td>Reliability, Availability and Serviceability E...</td>\n",
       "      <td>188000.0</td>\n",
       "      <td>357000.0</td>\n",
       "    </tr>\n",
       "    <tr>\n",
       "      <th>216</th>\n",
       "      <td>NVIDIA</td>\n",
       "      <td>Santa Clara, CA</td>\n",
       "      <td>Reliability, Availability and Serviceability E...</td>\n",
       "      <td>188000.0</td>\n",
       "      <td>357000.0</td>\n",
       "    </tr>\n",
       "    <tr>\n",
       "      <th>424</th>\n",
       "      <td>NVIDIA</td>\n",
       "      <td>Santa Clara, CA</td>\n",
       "      <td>Reliability, Availability and Serviceability E...</td>\n",
       "      <td>188000.0</td>\n",
       "      <td>357000.0</td>\n",
       "    </tr>\n",
       "    <tr>\n",
       "      <th>302</th>\n",
       "      <td>NVIDIA</td>\n",
       "      <td>Santa Clara, CA</td>\n",
       "      <td>Reliability, Availability and Serviceability E...</td>\n",
       "      <td>188000.0</td>\n",
       "      <td>357000.0</td>\n",
       "    </tr>\n",
       "    <tr>\n",
       "      <th>115</th>\n",
       "      <td>NVIDIA</td>\n",
       "      <td>Santa Clara, CA</td>\n",
       "      <td>Senior AI-HPC Storage Engineer</td>\n",
       "      <td>180000.0</td>\n",
       "      <td>339000.0</td>\n",
       "    </tr>\n",
       "    <tr>\n",
       "      <th>427</th>\n",
       "      <td>NVIDIA</td>\n",
       "      <td>Santa Clara, CA</td>\n",
       "      <td>Senior AI-HPC Storage Engineer</td>\n",
       "      <td>180000.0</td>\n",
       "      <td>339000.0</td>\n",
       "    </tr>\n",
       "    <tr>\n",
       "      <th>245</th>\n",
       "      <td>NVIDIA</td>\n",
       "      <td>Santa Clara, CA</td>\n",
       "      <td>Senior Performance Software Engineer, Deep Lea...</td>\n",
       "      <td>180000.0</td>\n",
       "      <td>339000.0</td>\n",
       "    </tr>\n",
       "    <tr>\n",
       "      <th>251</th>\n",
       "      <td>NVIDIA</td>\n",
       "      <td>Santa Clara, CA</td>\n",
       "      <td>Senior AI-HPC Storage Engineer</td>\n",
       "      <td>180000.0</td>\n",
       "      <td>339000.0</td>\n",
       "    </tr>\n",
       "    <tr>\n",
       "      <th>87</th>\n",
       "      <td>NVIDIA</td>\n",
       "      <td>Santa Clara, CA</td>\n",
       "      <td>Senior Performance Software Engineer, Deep Lea...</td>\n",
       "      <td>180000.0</td>\n",
       "      <td>339000.0</td>\n",
       "    </tr>\n",
       "    <tr>\n",
       "      <th>464</th>\n",
       "      <td>Freddie Mac</td>\n",
       "      <td>McLean, VA</td>\n",
       "      <td>Climate Risk Quantitative Analytics Director (...</td>\n",
       "      <td>212000.0</td>\n",
       "      <td>318000.0</td>\n",
       "    </tr>\n",
       "    <tr>\n",
       "      <th>263</th>\n",
       "      <td>Freddie Mac</td>\n",
       "      <td>McLean, VA</td>\n",
       "      <td>Climate Risk Quantitative Analytics Director (...</td>\n",
       "      <td>212000.0</td>\n",
       "      <td>318000.0</td>\n",
       "    </tr>\n",
       "    <tr>\n",
       "      <th>347</th>\n",
       "      <td>Freddie Mac</td>\n",
       "      <td>McLean, VA</td>\n",
       "      <td>Climate Risk Quantitative Analytics Director (...</td>\n",
       "      <td>212000.0</td>\n",
       "      <td>318000.0</td>\n",
       "    </tr>\n",
       "    <tr>\n",
       "      <th>38</th>\n",
       "      <td>Indeed</td>\n",
       "      <td>Remote</td>\n",
       "      <td>Data Science Technical Fellow</td>\n",
       "      <td>214000.0</td>\n",
       "      <td>310000.0</td>\n",
       "    </tr>\n",
       "    <tr>\n",
       "      <th>321</th>\n",
       "      <td>Lime</td>\n",
       "      <td>Remote</td>\n",
       "      <td>Head of Data</td>\n",
       "      <td>162000.0</td>\n",
       "      <td>297000.0</td>\n",
       "    </tr>\n",
       "    <tr>\n",
       "      <th>152</th>\n",
       "      <td>Insurity</td>\n",
       "      <td>Remote</td>\n",
       "      <td>Vice President, Data Science</td>\n",
       "      <td>220000.0</td>\n",
       "      <td>283000.0</td>\n",
       "    </tr>\n",
       "    <tr>\n",
       "      <th>491</th>\n",
       "      <td>Dave Inc.</td>\n",
       "      <td>Remote</td>\n",
       "      <td>Manager, Data Science Platform Engineering</td>\n",
       "      <td>169000.0</td>\n",
       "      <td>271000.0</td>\n",
       "    </tr>\n",
       "    <tr>\n",
       "      <th>352</th>\n",
       "      <td>Rokt</td>\n",
       "      <td>New York, NY</td>\n",
       "      <td>Principal Data Scientist, Experimentation</td>\n",
       "      <td>190000.0</td>\n",
       "      <td>270000.0</td>\n",
       "    </tr>\n",
       "    <tr>\n",
       "      <th>219</th>\n",
       "      <td>TikTok</td>\n",
       "      <td>United States</td>\n",
       "      <td>Data Science Lead - Global Marketing</td>\n",
       "      <td>147000.0</td>\n",
       "      <td>270000.0</td>\n",
       "    </tr>\n",
       "    <tr>\n",
       "      <th>468</th>\n",
       "      <td>Rokt</td>\n",
       "      <td>New York, NY</td>\n",
       "      <td>Principal Data Scientist, Experimentation</td>\n",
       "      <td>190000.0</td>\n",
       "      <td>270000.0</td>\n",
       "    </tr>\n",
       "    <tr>\n",
       "      <th>389</th>\n",
       "      <td>AppFolio</td>\n",
       "      <td>San Diego, CA</td>\n",
       "      <td>Director, Business Data Science &amp; Analytics</td>\n",
       "      <td>194000.0</td>\n",
       "      <td>260000.0</td>\n",
       "    </tr>\n",
       "  </tbody>\n",
       "</table>\n",
       "</div>"
      ],
      "text/plain": [
       "    Company Name         Location  \\\n",
       "155       NVIDIA  Santa Clara, CA   \n",
       "216       NVIDIA  Santa Clara, CA   \n",
       "424       NVIDIA  Santa Clara, CA   \n",
       "302       NVIDIA  Santa Clara, CA   \n",
       "115       NVIDIA  Santa Clara, CA   \n",
       "427       NVIDIA  Santa Clara, CA   \n",
       "245       NVIDIA  Santa Clara, CA   \n",
       "251       NVIDIA  Santa Clara, CA   \n",
       "87        NVIDIA  Santa Clara, CA   \n",
       "464  Freddie Mac       McLean, VA   \n",
       "263  Freddie Mac       McLean, VA   \n",
       "347  Freddie Mac       McLean, VA   \n",
       "38        Indeed           Remote   \n",
       "321         Lime           Remote   \n",
       "152     Insurity           Remote   \n",
       "491    Dave Inc.           Remote   \n",
       "352         Rokt     New York, NY   \n",
       "219       TikTok    United States   \n",
       "468         Rokt     New York, NY   \n",
       "389     AppFolio    San Diego, CA   \n",
       "\n",
       "                                             Job Title  Min Salary  Max Salary  \n",
       "155  Reliability, Availability and Serviceability E...    188000.0    357000.0  \n",
       "216  Reliability, Availability and Serviceability E...    188000.0    357000.0  \n",
       "424  Reliability, Availability and Serviceability E...    188000.0    357000.0  \n",
       "302  Reliability, Availability and Serviceability E...    188000.0    357000.0  \n",
       "115                     Senior AI-HPC Storage Engineer    180000.0    339000.0  \n",
       "427                     Senior AI-HPC Storage Engineer    180000.0    339000.0  \n",
       "245  Senior Performance Software Engineer, Deep Lea...    180000.0    339000.0  \n",
       "251                     Senior AI-HPC Storage Engineer    180000.0    339000.0  \n",
       "87   Senior Performance Software Engineer, Deep Lea...    180000.0    339000.0  \n",
       "464  Climate Risk Quantitative Analytics Director (...    212000.0    318000.0  \n",
       "263  Climate Risk Quantitative Analytics Director (...    212000.0    318000.0  \n",
       "347  Climate Risk Quantitative Analytics Director (...    212000.0    318000.0  \n",
       "38                       Data Science Technical Fellow    214000.0    310000.0  \n",
       "321                                       Head of Data    162000.0    297000.0  \n",
       "152                       Vice President, Data Science    220000.0    283000.0  \n",
       "491         Manager, Data Science Platform Engineering    169000.0    271000.0  \n",
       "352          Principal Data Scientist, Experimentation    190000.0    270000.0  \n",
       "219               Data Science Lead - Global Marketing    147000.0    270000.0  \n",
       "468          Principal Data Scientist, Experimentation    190000.0    270000.0  \n",
       "389        Director, Business Data Science & Analytics    194000.0    260000.0  "
      ]
     },
     "execution_count": 107,
     "metadata": {},
     "output_type": "execute_result"
    }
   ],
   "source": [
    "df.loc[:, [\"Company Name\", \"Location\", \"Job Title\", \"Min Salary\", \"Max Salary\"]].sort_values(by=\"Max Salary\", ascending=False).head(20)"
   ]
  },
  {
   "cell_type": "code",
   "execution_count": null,
   "metadata": {},
   "outputs": [],
   "source": []
  }
 ],
 "metadata": {
  "kernelspec": {
   "display_name": "Python 3",
   "language": "python",
   "name": "python3"
  },
  "language_info": {
   "codemirror_mode": {
    "name": "ipython",
    "version": 3
   },
   "file_extension": ".py",
   "mimetype": "text/x-python",
   "name": "python",
   "nbconvert_exporter": "python",
   "pygments_lexer": "ipython3",
   "version": "3.12.4"
  }
 },
 "nbformat": 4,
 "nbformat_minor": 2
}
